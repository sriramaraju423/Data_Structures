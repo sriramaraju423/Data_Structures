{
 "cells": [
  {
   "cell_type": "code",
   "execution_count": 55,
   "metadata": {},
   "outputs": [],
   "source": [
    "class Node:\n",
    "    def __init__(self,data = None,next_node = None):\n",
    "        self.data = data\n",
    "        self.next_node = next_node\n",
    "    def get_data(self):\n",
    "        return self.data\n",
    "    def get_next(self):\n",
    "        return self.next_node\n",
    "    def set_next(self, new_next):\n",
    "        self.next_node = new_next"
   ]
  },
  {
   "cell_type": "code",
   "execution_count": 77,
   "metadata": {},
   "outputs": [],
   "source": [
    "class LinkedList:\n",
    "    def __init__(self,head=None):\n",
    "        self.head = head\n",
    "    def insert(self, data):\n",
    "        new_node = Node(data)\n",
    "        new_node.set_next(self.head)\n",
    "        self.head = new_node\n",
    "    def size(self):\n",
    "        current = self.head\n",
    "        count = 0\n",
    "        while current:\n",
    "            count += 1\n",
    "            print(current.get_data())\n",
    "            current = current.get_next()\n",
    "        print('The size of the linked list is:',count)\n",
    "    def search(self, data):\n",
    "        current = self.head\n",
    "        found = False\n",
    "        while current and found is False:\n",
    "            if current.get_data() == data:\n",
    "                found = True\n",
    "            else:\n",
    "                current = current.get_next()\n",
    "        if current is None:\n",
    "            print('Data is not in the list')\n",
    "        return found\n",
    "    \n",
    "    def delete(self, data):\n",
    "        current = self.head\n",
    "        previous = None\n",
    "        found = False\n",
    "        while current and found is False:\n",
    "            if current.get_data() == data:\n",
    "                found = True\n",
    "            else:\n",
    "                previous = current\n",
    "                current = current.get_next()\n",
    "        if current is None:\n",
    "            print('Data is not in the list')\n",
    "        if previous is None:\n",
    "            self.head = current.get_next()\n",
    "        else:\n",
    "            previous.set_next(current.get_next())\n",
    "    def linkedListPrint(self):\n",
    "        pointer = self.head\n",
    "        linkedlst = []\n",
    "        while pointer:\n",
    "            linkedlst.append(pointer.get_data())\n",
    "            pointer = pointer.get_next()\n",
    "        print(linkedlst)    "
   ]
  },
  {
   "cell_type": "code",
   "execution_count": 78,
   "metadata": {},
   "outputs": [],
   "source": [
    "l1 = LinkedList()"
   ]
  },
  {
   "cell_type": "code",
   "execution_count": 79,
   "metadata": {},
   "outputs": [],
   "source": [
    "l1.insert(1)\n",
    "l1.insert(2)"
   ]
  },
  {
   "cell_type": "code",
   "execution_count": 80,
   "metadata": {},
   "outputs": [
    {
     "name": "stdout",
     "output_type": "stream",
     "text": [
      "2\n",
      "1\n",
      "The size of the linked list is: 2\n"
     ]
    }
   ],
   "source": [
    "l1.size()"
   ]
  },
  {
   "cell_type": "code",
   "execution_count": 81,
   "metadata": {},
   "outputs": [],
   "source": [
    "l1.insert(3)"
   ]
  },
  {
   "cell_type": "code",
   "execution_count": 82,
   "metadata": {},
   "outputs": [],
   "source": [
    "l1.delete(3)"
   ]
  },
  {
   "cell_type": "code",
   "execution_count": 83,
   "metadata": {},
   "outputs": [
    {
     "name": "stdout",
     "output_type": "stream",
     "text": [
      "2\n",
      "1\n",
      "The size of the linked list is: 2\n"
     ]
    }
   ],
   "source": [
    "l1.size()"
   ]
  },
  {
   "cell_type": "code",
   "execution_count": 84,
   "metadata": {},
   "outputs": [
    {
     "data": {
      "text/plain": [
       "True"
      ]
     },
     "execution_count": 84,
     "metadata": {},
     "output_type": "execute_result"
    }
   ],
   "source": [
    "l1.search(1)"
   ]
  },
  {
   "cell_type": "code",
   "execution_count": 85,
   "metadata": {},
   "outputs": [
    {
     "name": "stdout",
     "output_type": "stream",
     "text": [
      "[2, 1]\n"
     ]
    }
   ],
   "source": [
    "l1.linkedListPrint()"
   ]
  }
 ],
 "metadata": {
  "kernelspec": {
   "display_name": "Python 3",
   "language": "python",
   "name": "python3"
  },
  "language_info": {
   "codemirror_mode": {
    "name": "ipython",
    "version": 3
   },
   "file_extension": ".py",
   "mimetype": "text/x-python",
   "name": "python",
   "nbconvert_exporter": "python",
   "pygments_lexer": "ipython3",
   "version": "3.7.4"
  }
 },
 "nbformat": 4,
 "nbformat_minor": 2
}
